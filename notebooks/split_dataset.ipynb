{
 "cells": [
  {
   "cell_type": "code",
   "execution_count": 1,
   "metadata": {},
   "outputs": [],
   "source": [
    "from pathlib import Path"
   ]
  },
  {
   "cell_type": "code",
   "execution_count": 2,
   "metadata": {},
   "outputs": [],
   "source": [
    "DATA = Path('../data')"
   ]
  },
  {
   "cell_type": "code",
   "execution_count": 3,
   "metadata": {},
   "outputs": [],
   "source": [
    "def split_file(path: str, train_dir='../train_9.5M', test_dir='../select_0.5M', test_fraction: float=0.05):\n",
    "    \"Splits a file into two train/test files, by lines\"\n",
    "    path = Path(path)\n",
    "    text = path.read_text()\n",
    "    lines = text.splitlines()\n",
    "    N_train_lines = round((1-test_fraction)*len(lines))\n",
    "    train_text = '\\n'.join(lines[:N_train_lines])\n",
    "    test_text  = '\\n'.join(lines[N_train_lines:])\n",
    "    (path.parent / train_dir).mkdir(exist_ok=True)\n",
    "    (path.parent /  test_dir).mkdir(exist_ok=True)\n",
    "    (path.parent / train_dir / path.name).write_text(train_text)\n",
    "    (path.parent /  test_dir / path.name).write_text( test_text)"
   ]
  },
  {
   "cell_type": "code",
   "execution_count": 4,
   "metadata": {},
   "outputs": [],
   "source": [
    "for file in (DATA / 'train_10M_clean').glob('*.train'):\n",
    "    split_file(file)"
   ]
  },
  {
   "cell_type": "code",
   "execution_count": 5,
   "metadata": {},
   "outputs": [
    {
     "name": "stdout",
     "output_type": "stream",
     "text": [
      "   85303   879812  4604037 ../data/train_9.5M/bnc_spoken.train\n",
      "  550999  2709563 14789567 ../data/train_9.5M/childes.train\n",
      "   62712  2437746 13452943 ../data/train_9.5M/gutenberg.train\n",
      "  341945  1935177 10264970 ../data/train_9.5M/open_subtitles.train\n",
      "   38409  1367787  7972877 ../data/train_9.5M/simple_wiki.train\n",
      "   17099   139253   682261 ../data/train_9.5M/switchboard.train\n",
      " 1096467  9469338 51766655 total\n"
     ]
    }
   ],
   "source": [
    "!wc $DATA/train_9.5M/*"
   ]
  },
  {
   "cell_type": "code",
   "execution_count": 6,
   "metadata": {},
   "outputs": [
    {
     "name": "stdout",
     "output_type": "stream",
     "text": [
      "   4489   47290  247904 ../data/select_0.5M/bnc_spoken.train\n",
      "  28999  129834  695532 ../data/select_0.5M/childes.train\n",
      "   3300  101743  548565 ../data/select_0.5M/gutenberg.train\n",
      "  17996  106345  560992 ../data/select_0.5M/open_subtitles.train\n",
      "   2021   74195  435435 ../data/select_0.5M/simple_wiki.train\n",
      "    899    7536   37059 ../data/select_0.5M/switchboard.train\n",
      "  57704  466943 2525487 total\n"
     ]
    }
   ],
   "source": [
    "!wc $DATA/select_0.5M/*"
   ]
  }
 ],
 "metadata": {
  "kernelspec": {
   "display_name": "env",
   "language": "python",
   "name": "python3"
  },
  "language_info": {
   "codemirror_mode": {
    "name": "ipython",
    "version": 3
   },
   "file_extension": ".py",
   "mimetype": "text/x-python",
   "name": "python",
   "nbconvert_exporter": "python",
   "pygments_lexer": "ipython3",
   "version": "3.11.5"
  }
 },
 "nbformat": 4,
 "nbformat_minor": 2
}
